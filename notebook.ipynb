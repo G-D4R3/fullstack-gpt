{
 "cells": [
  {
   "cell_type": "code",
   "execution_count": 1,
   "metadata": {
    "ExecuteTime": {
     "end_time": "2024-01-10T10:25:25.065259Z",
     "start_time": "2024-01-10T10:25:21.443668Z"
    }
   },
   "outputs": [
    {
     "data": {
      "text/plain": "True"
     },
     "execution_count": 1,
     "metadata": {},
     "output_type": "execute_result"
    }
   ],
   "source": [
    "from dotenv import load_dotenv\n",
    "\n",
    "load_dotenv()"
   ]
  },
  {
   "cell_type": "code",
   "execution_count": 76,
   "outputs": [],
   "source": [
    "from langchain.document_loaders import UnstructuredFileLoader\n",
    "from langchain.text_splitter import CharacterTextSplitter\n",
    "from langchain.embeddings import OpenAIEmbeddings, CacheBackedEmbeddings\n",
    "from langchain.vectorstores import Chroma\n",
    "from langchain.storage import LocalFileStore\n",
    "\n",
    "cache_dir = LocalFileStore(\"./.cache/\")\n",
    "\n",
    "splitter = CharacterTextSplitter.from_tiktoken_encoder(\n",
    "    separator='\\n',\n",
    "    chunk_size=600,\n",
    "    chunk_overlap=100,\n",
    ")\n",
    "\n",
    "loader = UnstructuredFileLoader(\"./files/chapter_one.docx\")\n",
    "docs = loader.load_and_split(text_splitter=splitter)\n",
    "embeddings = OpenAIEmbeddings()\n",
    "\n",
    "# cache_dir에 있는 embed를 확인하고 업으면 OpenAIEmbeddings 사용\n",
    "cached_embeddings = CacheBackedEmbeddings.from_bytes_store(\n",
    "    embeddings, cache_dir\n",
    ")\n",
    "\n",
    "vectorstore = Chroma.from_documents(docs, cached_embeddings)"
   ],
   "metadata": {
    "collapsed": false
   }
  },
  {
   "cell_type": "code",
   "execution_count": 77,
   "outputs": [
    {
     "data": {
      "text/plain": "[Document(page_content=\"Outside, even through the shut window-pane, the world looked cold. Down in\\nthe street little eddies of wind were whirling dust and torn paper into\\nspirals, and though the sun was shining and the sky a harsh blue, there\\nseemed to be no colour in anything, except the posters that were plastered\\neverywhere. The black-moustachio'd face gazed down from every commanding\\ncorner. There was one on the house-front immediately opposite. BIG BROTHER\\nIS WATCHING YOU, the caption said, while the dark eyes looked deep into\\nWinston's own. Down at street level another poster, torn at one corner,\\nflapped fitfully in the wind, alternately covering and uncovering the\\nsingle word INGSOC. In the far distance a helicopter skimmed down between\\nthe roofs, hovered for an instant like a bluebottle, and darted away again\\nwith a curving flight. It was the police patrol, snooping into people's\\nwindows. The patrols did not matter, however. Only the Thought Police\\nmattered.\\nBehind Winston's back the voice from the telescreen was still babbling away\\nabout pig-iron and the overfulfilment of the Ninth Three-Year Plan. The\\ntelescreen received and transmitted simultaneously. Any sound that Winston\\nmade, above the level of a very low whisper, would be picked up by it,\\nmoreover, so long as he remained within the field of vision which the metal\\nplaque commanded, he could be seen as well as heard. There was of course\\nno way of knowing whether you were being watched at any given moment. How\\noften, or on what system, the Thought Police plugged in on any individual\\nwire was guesswork. It was even conceivable that they watched everybody all\\nthe time. But at any rate they could plug in your wire whenever they wanted\\nto. You had to live--did live, from habit that became instinct--in the\\nassumption that every sound you made was overheard, and, except in\\ndarkness, every movement scrutinized.\\nWinston kept his back turned to the telescreen. It was safer; though, as he\\nwell knew, even a back can be revealing. A kilometre away the Ministry of\\nTruth, his place of work, towered vast and white above the grimy landscape.\\nThis, he thought with a sort of vague distaste--this was London, chief\\ncity of Airstrip One, itself the third most populous of the provinces of\\nOceania. He tried to squeeze out some childhood memory that should tell him\\nwhether London had always been quite like this. Were there always these\\nvistas of rotting nineteenth-century houses, their sides shored up with\\nbaulks of timber, their windows patched with cardboard and their roofs\", metadata={'source': './files/chapter_one.docx'}),\n Document(page_content=\"Outside, even through the shut window-pane, the world looked cold. Down in\\nthe street little eddies of wind were whirling dust and torn paper into\\nspirals, and though the sun was shining and the sky a harsh blue, there\\nseemed to be no colour in anything, except the posters that were plastered\\neverywhere. The black-moustachio'd face gazed down from every commanding\\ncorner. There was one on the house-front immediately opposite. BIG BROTHER\\nIS WATCHING YOU, the caption said, while the dark eyes looked deep into\\nWinston's own. Down at street level another poster, torn at one corner,\\nflapped fitfully in the wind, alternately covering and uncovering the\\nsingle word INGSOC. In the far distance a helicopter skimmed down between\\nthe roofs, hovered for an instant like a bluebottle, and darted away again\\nwith a curving flight. It was the police patrol, snooping into people's\\nwindows. The patrols did not matter, however. Only the Thought Police\\nmattered.\\nBehind Winston's back the voice from the telescreen was still babbling away\\nabout pig-iron and the overfulfilment of the Ninth Three-Year Plan. The\\ntelescreen received and transmitted simultaneously. Any sound that Winston\\nmade, above the level of a very low whisper, would be picked up by it,\\nmoreover, so long as he remained within the field of vision which the metal\\nplaque commanded, he could be seen as well as heard. There was of course\\nno way of knowing whether you were being watched at any given moment. How\\noften, or on what system, the Thought Police plugged in on any individual\\nwire was guesswork. It was even conceivable that they watched everybody all\\nthe time. But at any rate they could plug in your wire whenever they wanted\\nto. You had to live--did live, from habit that became instinct--in the\\nassumption that every sound you made was overheard, and, except in\\ndarkness, every movement scrutinized.\\nWinston kept his back turned to the telescreen. It was safer; though, as he\\nwell knew, even a back can be revealing. A kilometre away the Ministry of\\nTruth, his place of work, towered vast and white above the grimy landscape.\\nThis, he thought with a sort of vague distaste--this was London, chief\\ncity of Airstrip One, itself the third most populous of the provinces of\\nOceania. He tried to squeeze out some childhood memory that should tell him\\nwhether London had always been quite like this. Were there always these\\nvistas of rotting nineteenth-century houses, their sides shored up with\\nbaulks of timber, their windows patched with cardboard and their roofs\", metadata={'source': './files/chapter_one.docx'}),\n Document(page_content=\"Outside, even through the shut window-pane, the world looked cold. Down in\\nthe street little eddies of wind were whirling dust and torn paper into\\nspirals, and though the sun was shining and the sky a harsh blue, there\\nseemed to be no colour in anything, except the posters that were plastered\\neverywhere. The black-moustachio'd face gazed down from every commanding\\ncorner. There was one on the house-front immediately opposite. BIG BROTHER\\nIS WATCHING YOU, the caption said, while the dark eyes looked deep into\\nWinston's own. Down at street level another poster, torn at one corner,\\nflapped fitfully in the wind, alternately covering and uncovering the\\nsingle word INGSOC. In the far distance a helicopter skimmed down between\\nthe roofs, hovered for an instant like a bluebottle, and darted away again\\nwith a curving flight. It was the police patrol, snooping into people's\\nwindows. The patrols did not matter, however. Only the Thought Police\\nmattered.\\nBehind Winston's back the voice from the telescreen was still babbling away\\nabout pig-iron and the overfulfilment of the Ninth Three-Year Plan. The\\ntelescreen received and transmitted simultaneously. Any sound that Winston\\nmade, above the level of a very low whisper, would be picked up by it,\\nmoreover, so long as he remained within the field of vision which the metal\\nplaque commanded, he could be seen as well as heard. There was of course\\nno way of knowing whether you were being watched at any given moment. How\\noften, or on what system, the Thought Police plugged in on any individual\\nwire was guesswork. It was even conceivable that they watched everybody all\\nthe time. But at any rate they could plug in your wire whenever they wanted\\nto. You had to live--did live, from habit that became instinct--in the\\nassumption that every sound you made was overheard, and, except in\\ndarkness, every movement scrutinized.\\nWinston kept his back turned to the telescreen. It was safer; though, as he\\nwell knew, even a back can be revealing. A kilometre away the Ministry of\\nTruth, his place of work, towered vast and white above the grimy landscape.\\nThis, he thought with a sort of vague distaste--this was London, chief\\ncity of Airstrip One, itself the third most populous of the provinces of\\nOceania. He tried to squeeze out some childhood memory that should tell him\\nwhether London had always been quite like this. Were there always these\\nvistas of rotting nineteenth-century houses, their sides shored up with\\nbaulks of timber, their windows patched with cardboard and their roofs\", metadata={'source': './files/chapter_one.docx'}),\n Document(page_content=\"for economic affairs. Their names, in Newspeak: Minitrue, Minipax, Miniluv,\\nand Miniplenty.\\nThe Ministry of Love was the really frightening one. There were no windows\\nin it at all. Winston had never been inside the Ministry of Love, nor\\nwithin half a kilometre of it. It was a place impossible to enter except\\non official business, and then only by penetrating through a maze of\\nbarbed-wire entanglements, steel doors, and hidden machine-gun nests. Even\\nthe streets leading up to its outer barriers were roamed by gorilla-faced\\nguards in black uniforms, armed with jointed truncheons.\\nWinston turned round abruptly. He had set his features into the\\nexpression of quiet optimism which it was advisable to wear when facing\\nthe telescreen. He crossed the room into the tiny kitchen. By leaving\\nthe Ministry at this time of day he had sacrificed his lunch in the\\ncanteen, and he was aware that there was no food in the kitchen except\\na hunk of dark-coloured bread which had got to be saved for tomorrow's\\nbreakfast. He took down from the shelf a bottle of colourless liquid\\nwith a plain white label marked VICTORY GIN. It gave off a sickly, oily\\nsmell, as of Chinese rice-spirit. Winston poured out nearly a teacupful,\\nnerved himself for a shock, and gulped it down like a dose of medicine.\\nInstantly his face turned scarlet and the water ran out of his eyes. The\\nstuff was like nitric acid, and moreover, in swallowing it one had the\\nsensation of being hit on the back of the head with a rubber club. The\\nnext moment, however, the burning in his belly died down and the world\\nbegan to look more cheerful. He took a cigarette from a crumpled packet\\nmarked VICTORY CIGARETTES and incautiously held it upright, whereupon the\\ntobacco fell out on to the floor. With the next he was more successful.\\nHe went back to the living-room and sat down at a small table that stood\\nto the left of the telescreen. From the table drawer he took out a\\npenholder, a bottle of ink, and a thick, quarto-sized blank book with a\\nred back and a marbled cover.\\nFor some reason the telescreen in the living-room was in an unusual\\nposition. Instead of being placed, as was normal, in the end wall, where\\nit could command the whole room, it was in the longer wall, opposite the\\nwindow. To one side of it there was a shallow alcove in which Winston\\nwas now sitting, and which, when the flats were built, had probably been\", metadata={'source': './files/chapter_one.docx'})]"
     },
     "execution_count": 77,
     "metadata": {},
     "output_type": "execute_result"
    }
   ],
   "source": [
    "results = vectorstore.similarity_search(\"where does winston live\")\n",
    "results"
   ],
   "metadata": {
    "collapsed": false
   }
  },
  {
   "cell_type": "code",
   "execution_count": null,
   "outputs": [],
   "source": [],
   "metadata": {
    "collapsed": false
   }
  }
 ],
 "metadata": {
  "kernelspec": {
   "display_name": "Python 3 (ipykernel)",
   "language": "python",
   "name": "python3"
  },
  "language_info": {
   "codemirror_mode": {
    "name": "ipython",
    "version": 3
   },
   "file_extension": ".py",
   "mimetype": "text/x-python",
   "name": "python",
   "nbconvert_exporter": "python",
   "pygments_lexer": "ipython3",
   "version": "3.11.7"
  }
 },
 "nbformat": 4,
 "nbformat_minor": 4
}
