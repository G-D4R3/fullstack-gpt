{
 "cells": [
  {
   "cell_type": "code",
   "execution_count": 3,
   "metadata": {
    "ExecuteTime": {
     "end_time": "2024-01-10T10:25:25.065259Z",
     "start_time": "2024-01-10T10:25:21.443668Z"
    }
   },
   "outputs": [
    {
     "data": {
      "text/plain": "True"
     },
     "execution_count": 3,
     "metadata": {},
     "output_type": "execute_result"
    }
   ],
   "source": [
    "from dotenv import load_dotenv\n",
    "\n",
    "load_dotenv()"
   ]
  },
  {
   "cell_type": "code",
   "execution_count": null,
   "outputs": [],
   "source": [],
   "metadata": {
    "collapsed": false
   }
  },
  {
   "cell_type": "code",
   "execution_count": 18,
   "outputs": [],
   "source": [
    "from langchain.chat_models import ChatOpenAI\n",
    "\n",
    "from langchain.globals import set_llm_cache, set_debug\n",
    "from langchain.cache import InMemoryCache, SQLiteCache\n",
    "\n",
    "set_llm_cache(SQLiteCache(\"cache.db\")) # 모든 db 저장\n",
    "set_debug(True)\n",
    "\n",
    "chat = ChatOpenAI(\n",
    "    temperature=0.1,\n",
    ")\n"
   ],
   "metadata": {
    "collapsed": false
   }
  },
  {
   "cell_type": "code",
   "execution_count": 19,
   "outputs": [
    {
     "name": "stdout",
     "output_type": "stream",
     "text": [
      "\u001B[32;1m\u001B[1;3m[llm/start]\u001B[0m \u001B[1m[1:llm:ChatOpenAI] Entering LLM run with input:\n",
      "\u001B[0m{\n",
      "  \"prompts\": [\n",
      "    \"Human: How do you make italian pasta\"\n",
      "  ]\n",
      "}\n",
      "\u001B[36;1m\u001B[1;3m[llm/end]\u001B[0m \u001B[1m[1:llm:ChatOpenAI] [20.33s] Exiting LLM run with output:\n",
      "\u001B[0m{\n",
      "  \"generations\": [\n",
      "    [\n",
      "      {\n",
      "        \"text\": \"To make Italian pasta, you will need the following ingredients:\\n\\n- 2 cups of all-purpose flour\\n- 2 large eggs\\n- 1/2 teaspoon of salt\\n- Water (if needed)\\n\\nHere's a step-by-step guide to making Italian pasta:\\n\\n1. On a clean surface or in a large mixing bowl, pour the flour and create a well in the center.\\n2. Crack the eggs into the well and add the salt.\\n3. Using a fork or your fingers, gradually mix the eggs and salt into the flour, incorporating a little at a time.\\n4. Once the dough starts to come together, knead it with your hands until it forms a smooth and elastic ball. If the dough is too dry, you can add a little water, one tablespoon at a time, until it reaches the desired consistency.\\n5. Once the dough is formed, cover it with a clean kitchen towel and let it rest for about 30 minutes. This will allow the gluten to relax and make the dough easier to work with.\\n6. After resting, divide the dough into smaller portions. Take one portion and flatten it with your hands or a rolling pin until it is about 1/4 inch thick.\\n7. If you have a pasta machine, pass the dough through the machine, starting with the widest setting and gradually reducing the thickness until you reach the desired thickness for your pasta. If you don't have a pasta machine, you can use a rolling pin to roll out the dough as thin as possible.\\n8. Once the dough is rolled out, you can cut it into your desired pasta shape. For example, you can cut it into thin strips for spaghetti or wider strips for fettuccine. You can also use a pasta machine with specific attachments for different shapes.\\n9. After cutting the pasta, you can cook it immediately in a large pot of salted boiling water for about 2-3 minutes, or until al dente. Alternatively, you can let the pasta dry for a few hours or overnight before cooking.\\n10. Once cooked, drain the pasta and serve it with your favorite sauce, such as marinara, Alfredo, or pesto.\\n\\nEnjoy your homemade Italian pasta!\",\n",
      "        \"generation_info\": {\n",
      "          \"finish_reason\": \"stop\"\n",
      "        },\n",
      "        \"type\": \"ChatGeneration\",\n",
      "        \"message\": {\n",
      "          \"lc\": 1,\n",
      "          \"type\": \"constructor\",\n",
      "          \"id\": [\n",
      "            \"langchain\",\n",
      "            \"schema\",\n",
      "            \"messages\",\n",
      "            \"AIMessage\"\n",
      "          ],\n",
      "          \"kwargs\": {\n",
      "            \"content\": \"To make Italian pasta, you will need the following ingredients:\\n\\n- 2 cups of all-purpose flour\\n- 2 large eggs\\n- 1/2 teaspoon of salt\\n- Water (if needed)\\n\\nHere's a step-by-step guide to making Italian pasta:\\n\\n1. On a clean surface or in a large mixing bowl, pour the flour and create a well in the center.\\n2. Crack the eggs into the well and add the salt.\\n3. Using a fork or your fingers, gradually mix the eggs and salt into the flour, incorporating a little at a time.\\n4. Once the dough starts to come together, knead it with your hands until it forms a smooth and elastic ball. If the dough is too dry, you can add a little water, one tablespoon at a time, until it reaches the desired consistency.\\n5. Once the dough is formed, cover it with a clean kitchen towel and let it rest for about 30 minutes. This will allow the gluten to relax and make the dough easier to work with.\\n6. After resting, divide the dough into smaller portions. Take one portion and flatten it with your hands or a rolling pin until it is about 1/4 inch thick.\\n7. If you have a pasta machine, pass the dough through the machine, starting with the widest setting and gradually reducing the thickness until you reach the desired thickness for your pasta. If you don't have a pasta machine, you can use a rolling pin to roll out the dough as thin as possible.\\n8. Once the dough is rolled out, you can cut it into your desired pasta shape. For example, you can cut it into thin strips for spaghetti or wider strips for fettuccine. You can also use a pasta machine with specific attachments for different shapes.\\n9. After cutting the pasta, you can cook it immediately in a large pot of salted boiling water for about 2-3 minutes, or until al dente. Alternatively, you can let the pasta dry for a few hours or overnight before cooking.\\n10. Once cooked, drain the pasta and serve it with your favorite sauce, such as marinara, Alfredo, or pesto.\\n\\nEnjoy your homemade Italian pasta!\",\n",
      "            \"additional_kwargs\": {}\n",
      "          }\n",
      "        }\n",
      "      }\n",
      "    ]\n",
      "  ],\n",
      "  \"llm_output\": {\n",
      "    \"token_usage\": {\n",
      "      \"prompt_tokens\": 13,\n",
      "      \"completion_tokens\": 447,\n",
      "      \"total_tokens\": 460\n",
      "    },\n",
      "    \"model_name\": \"gpt-3.5-turbo\",\n",
      "    \"system_fingerprint\": null\n",
      "  },\n",
      "  \"run\": null\n",
      "}\n"
     ]
    },
    {
     "data": {
      "text/plain": "\"To make Italian pasta, you will need the following ingredients:\\n\\n- 2 cups of all-purpose flour\\n- 2 large eggs\\n- 1/2 teaspoon of salt\\n- Water (if needed)\\n\\nHere's a step-by-step guide to making Italian pasta:\\n\\n1. On a clean surface or in a large mixing bowl, pour the flour and create a well in the center.\\n2. Crack the eggs into the well and add the salt.\\n3. Using a fork or your fingers, gradually mix the eggs and salt into the flour, incorporating a little at a time.\\n4. Once the dough starts to come together, knead it with your hands until it forms a smooth and elastic ball. If the dough is too dry, you can add a little water, one tablespoon at a time, until it reaches the desired consistency.\\n5. Once the dough is formed, cover it with a clean kitchen towel and let it rest for about 30 minutes. This will allow the gluten to relax and make the dough easier to work with.\\n6. After resting, divide the dough into smaller portions. Take one portion and flatten it with your hands or a rolling pin until it is about 1/4 inch thick.\\n7. If you have a pasta machine, pass the dough through the machine, starting with the widest setting and gradually reducing the thickness until you reach the desired thickness for your pasta. If you don't have a pasta machine, you can use a rolling pin to roll out the dough as thin as possible.\\n8. Once the dough is rolled out, you can cut it into your desired pasta shape. For example, you can cut it into thin strips for spaghetti or wider strips for fettuccine. You can also use a pasta machine with specific attachments for different shapes.\\n9. After cutting the pasta, you can cook it immediately in a large pot of salted boiling water for about 2-3 minutes, or until al dente. Alternatively, you can let the pasta dry for a few hours or overnight before cooking.\\n10. Once cooked, drain the pasta and serve it with your favorite sauce, such as marinara, Alfredo, or pesto.\\n\\nEnjoy your homemade Italian pasta!\""
     },
     "execution_count": 19,
     "metadata": {},
     "output_type": "execute_result"
    }
   ],
   "source": [
    "# 캐싱에 시간이 필요함.\n",
    "# 13초 가량 걸림\n",
    "\n",
    "chat.predict(\"How do you make italian pasta\")"
   ],
   "metadata": {
    "collapsed": false
   }
  },
  {
   "cell_type": "code",
   "execution_count": 20,
   "outputs": [
    {
     "name": "stdout",
     "output_type": "stream",
     "text": [
      "\u001B[32;1m\u001B[1;3m[llm/start]\u001B[0m \u001B[1m[1:llm:ChatOpenAI] Entering LLM run with input:\n",
      "\u001B[0m{\n",
      "  \"prompts\": [\n",
      "    \"Human: How do you make italian pasta\"\n",
      "  ]\n",
      "}\n",
      "\u001B[36;1m\u001B[1;3m[llm/end]\u001B[0m \u001B[1m[1:llm:ChatOpenAI] [2ms] Exiting LLM run with output:\n",
      "\u001B[0m{\n",
      "  \"generations\": [\n",
      "    [\n",
      "      {\n",
      "        \"text\": \"To make Italian pasta, you will need the following ingredients:\\n\\n- 2 cups of all-purpose flour\\n- 2 large eggs\\n- 1/2 teaspoon of salt\\n- Water (if needed)\\n\\nHere's a step-by-step guide to making Italian pasta:\\n\\n1. On a clean surface or in a large mixing bowl, pour the flour and create a well in the center.\\n2. Crack the eggs into the well and add the salt.\\n3. Using a fork or your fingers, gradually mix the eggs and salt into the flour, incorporating a little at a time.\\n4. Once the dough starts to come together, knead it with your hands until it forms a smooth and elastic ball. If the dough is too dry, you can add a little water, one tablespoon at a time, until it reaches the desired consistency.\\n5. Once the dough is formed, cover it with a clean kitchen towel and let it rest for about 30 minutes. This will allow the gluten to relax and make the dough easier to work with.\\n6. After resting, divide the dough into smaller portions. Take one portion and flatten it with your hands or a rolling pin until it is about 1/4 inch thick.\\n7. If you have a pasta machine, pass the dough through the machine, starting with the widest setting and gradually reducing the thickness until you reach the desired thickness for your pasta. If you don't have a pasta machine, you can use a rolling pin to roll out the dough as thin as possible.\\n8. Once the dough is rolled out, you can cut it into your desired pasta shape. For example, you can cut it into thin strips for spaghetti or wider strips for fettuccine. You can also use a pasta machine with specific attachments for different shapes.\\n9. After cutting the pasta, you can cook it immediately in a large pot of salted boiling water for about 2-3 minutes, or until al dente. Alternatively, you can let the pasta dry for a few hours or overnight before cooking.\\n10. Once cooked, drain the pasta and serve it with your favorite sauce, such as marinara, Alfredo, or pesto.\\n\\nEnjoy your homemade Italian pasta!\",\n",
      "        \"generation_info\": {\n",
      "          \"finish_reason\": \"stop\"\n",
      "        },\n",
      "        \"type\": \"ChatGeneration\",\n",
      "        \"message\": {\n",
      "          \"lc\": 1,\n",
      "          \"type\": \"constructor\",\n",
      "          \"id\": [\n",
      "            \"langchain\",\n",
      "            \"schema\",\n",
      "            \"messages\",\n",
      "            \"AIMessage\"\n",
      "          ],\n",
      "          \"kwargs\": {\n",
      "            \"content\": \"To make Italian pasta, you will need the following ingredients:\\n\\n- 2 cups of all-purpose flour\\n- 2 large eggs\\n- 1/2 teaspoon of salt\\n- Water (if needed)\\n\\nHere's a step-by-step guide to making Italian pasta:\\n\\n1. On a clean surface or in a large mixing bowl, pour the flour and create a well in the center.\\n2. Crack the eggs into the well and add the salt.\\n3. Using a fork or your fingers, gradually mix the eggs and salt into the flour, incorporating a little at a time.\\n4. Once the dough starts to come together, knead it with your hands until it forms a smooth and elastic ball. If the dough is too dry, you can add a little water, one tablespoon at a time, until it reaches the desired consistency.\\n5. Once the dough is formed, cover it with a clean kitchen towel and let it rest for about 30 minutes. This will allow the gluten to relax and make the dough easier to work with.\\n6. After resting, divide the dough into smaller portions. Take one portion and flatten it with your hands or a rolling pin until it is about 1/4 inch thick.\\n7. If you have a pasta machine, pass the dough through the machine, starting with the widest setting and gradually reducing the thickness until you reach the desired thickness for your pasta. If you don't have a pasta machine, you can use a rolling pin to roll out the dough as thin as possible.\\n8. Once the dough is rolled out, you can cut it into your desired pasta shape. For example, you can cut it into thin strips for spaghetti or wider strips for fettuccine. You can also use a pasta machine with specific attachments for different shapes.\\n9. After cutting the pasta, you can cook it immediately in a large pot of salted boiling water for about 2-3 minutes, or until al dente. Alternatively, you can let the pasta dry for a few hours or overnight before cooking.\\n10. Once cooked, drain the pasta and serve it with your favorite sauce, such as marinara, Alfredo, or pesto.\\n\\nEnjoy your homemade Italian pasta!\",\n",
      "            \"additional_kwargs\": {}\n",
      "          }\n",
      "        }\n",
      "      }\n",
      "    ]\n",
      "  ],\n",
      "  \"llm_output\": null,\n",
      "  \"run\": null\n",
      "}\n"
     ]
    },
    {
     "data": {
      "text/plain": "\"To make Italian pasta, you will need the following ingredients:\\n\\n- 2 cups of all-purpose flour\\n- 2 large eggs\\n- 1/2 teaspoon of salt\\n- Water (if needed)\\n\\nHere's a step-by-step guide to making Italian pasta:\\n\\n1. On a clean surface or in a large mixing bowl, pour the flour and create a well in the center.\\n2. Crack the eggs into the well and add the salt.\\n3. Using a fork or your fingers, gradually mix the eggs and salt into the flour, incorporating a little at a time.\\n4. Once the dough starts to come together, knead it with your hands until it forms a smooth and elastic ball. If the dough is too dry, you can add a little water, one tablespoon at a time, until it reaches the desired consistency.\\n5. Once the dough is formed, cover it with a clean kitchen towel and let it rest for about 30 minutes. This will allow the gluten to relax and make the dough easier to work with.\\n6. After resting, divide the dough into smaller portions. Take one portion and flatten it with your hands or a rolling pin until it is about 1/4 inch thick.\\n7. If you have a pasta machine, pass the dough through the machine, starting with the widest setting and gradually reducing the thickness until you reach the desired thickness for your pasta. If you don't have a pasta machine, you can use a rolling pin to roll out the dough as thin as possible.\\n8. Once the dough is rolled out, you can cut it into your desired pasta shape. For example, you can cut it into thin strips for spaghetti or wider strips for fettuccine. You can also use a pasta machine with specific attachments for different shapes.\\n9. After cutting the pasta, you can cook it immediately in a large pot of salted boiling water for about 2-3 minutes, or until al dente. Alternatively, you can let the pasta dry for a few hours or overnight before cooking.\\n10. Once cooked, drain the pasta and serve it with your favorite sauce, such as marinara, Alfredo, or pesto.\\n\\nEnjoy your homemade Italian pasta!\""
     },
     "execution_count": 20,
     "metadata": {},
     "output_type": "execute_result"
    }
   ],
   "source": [
    "chat.predict(\"How do you make italian pasta\")"
   ],
   "metadata": {
    "collapsed": false
   }
  },
  {
   "cell_type": "code",
   "execution_count": null,
   "outputs": [],
   "source": [],
   "metadata": {
    "collapsed": false
   }
  }
 ],
 "metadata": {
  "kernelspec": {
   "display_name": "Python 3 (ipykernel)",
   "language": "python",
   "name": "python3"
  },
  "language_info": {
   "codemirror_mode": {
    "name": "ipython",
    "version": 3
   },
   "file_extension": ".py",
   "mimetype": "text/x-python",
   "name": "python",
   "nbconvert_exporter": "python",
   "pygments_lexer": "ipython3",
   "version": "3.11.7"
  }
 },
 "nbformat": 4,
 "nbformat_minor": 4
}
