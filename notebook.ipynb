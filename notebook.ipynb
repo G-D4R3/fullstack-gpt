{
 "cells": [
  {
   "cell_type": "code",
   "execution_count": 1,
   "metadata": {
    "ExecuteTime": {
     "end_time": "2024-01-10T10:25:25.065259Z",
     "start_time": "2024-01-10T10:25:21.443668Z"
    }
   },
   "outputs": [
    {
     "data": {
      "text/plain": "True"
     },
     "execution_count": 1,
     "metadata": {},
     "output_type": "execute_result"
    }
   ],
   "source": [
    "from dotenv import load_dotenv\n",
    "\n",
    "load_dotenv()"
   ]
  },
  {
   "cell_type": "code",
   "execution_count": 69,
   "outputs": [],
   "source": [
    "from langchain.document_loaders import UnstructuredFileLoader\n",
    "from langchain.text_splitter import CharacterTextSplitter\n",
    "from langchain.embeddings import OpenAIEmbeddings\n",
    "# embed_documents를 연속적으로 실행하는 것은 비효율적\n",
    "# embed 결과를 저장해서 사용하는 것이 좋음 -> LangChain이 제공\n",
    "from langchain.vectorstores import Chroma\n",
    "\n",
    "splitter = CharacterTextSplitter.from_tiktoken_encoder(\n",
    "    separator='\\n',\n",
    "    chunk_size=600,\n",
    "    chunk_overlap=100,\n",
    ")\n",
    "\n",
    "loader = UnstructuredFileLoader(\"./files/chapter_one.docx\")\n",
    "docs = loader.load_and_split(text_splitter=splitter)\n",
    "embeddings = OpenAIEmbeddings()\n",
    "vectorstore = Chroma.from_documents(docs, embeddings)"
   ],
   "metadata": {
    "collapsed": false
   }
  },
  {
   "cell_type": "code",
   "execution_count": 73,
   "outputs": [
    {
     "data": {
      "text/plain": "[Document(page_content=\"Outside, even through the shut window-pane, the world looked cold. Down in\\nthe street little eddies of wind were whirling dust and torn paper into\\nspirals, and though the sun was shining and the sky a harsh blue, there\\nseemed to be no colour in anything, except the posters that were plastered\\neverywhere. The black-moustachio'd face gazed down from every commanding\\ncorner. There was one on the house-front immediately opposite. BIG BROTHER\\nIS WATCHING YOU, the caption said, while the dark eyes looked deep into\\nWinston's own. Down at street level another poster, torn at one corner,\\nflapped fitfully in the wind, alternately covering and uncovering the\\nsingle word INGSOC. In the far distance a helicopter skimmed down between\\nthe roofs, hovered for an instant like a bluebottle, and darted away again\\nwith a curving flight. It was the police patrol, snooping into people's\\nwindows. The patrols did not matter, however. Only the Thought Police\\nmattered.\\nBehind Winston's back the voice from the telescreen was still babbling away\\nabout pig-iron and the overfulfilment of the Ninth Three-Year Plan. The\\ntelescreen received and transmitted simultaneously. Any sound that Winston\\nmade, above the level of a very low whisper, would be picked up by it,\\nmoreover, so long as he remained within the field of vision which the metal\\nplaque commanded, he could be seen as well as heard. There was of course\\nno way of knowing whether you were being watched at any given moment. How\\noften, or on what system, the Thought Police plugged in on any individual\\nwire was guesswork. It was even conceivable that they watched everybody all\\nthe time. But at any rate they could plug in your wire whenever they wanted\\nto. You had to live--did live, from habit that became instinct--in the\\nassumption that every sound you made was overheard, and, except in\\ndarkness, every movement scrutinized.\\nWinston kept his back turned to the telescreen. It was safer; though, as he\\nwell knew, even a back can be revealing. A kilometre away the Ministry of\\nTruth, his place of work, towered vast and white above the grimy landscape.\\nThis, he thought with a sort of vague distaste--this was London, chief\\ncity of Airstrip One, itself the third most populous of the provinces of\\nOceania. He tried to squeeze out some childhood memory that should tell him\\nwhether London had always been quite like this. Were there always these\\nvistas of rotting nineteenth-century houses, their sides shored up with\\nbaulks of timber, their windows patched with cardboard and their roofs\", metadata={'source': './files/chapter_one.docx'}),\n Document(page_content=\"for economic affairs. Their names, in Newspeak: Minitrue, Minipax, Miniluv,\\nand Miniplenty.\\nThe Ministry of Love was the really frightening one. There were no windows\\nin it at all. Winston had never been inside the Ministry of Love, nor\\nwithin half a kilometre of it. It was a place impossible to enter except\\non official business, and then only by penetrating through a maze of\\nbarbed-wire entanglements, steel doors, and hidden machine-gun nests. Even\\nthe streets leading up to its outer barriers were roamed by gorilla-faced\\nguards in black uniforms, armed with jointed truncheons.\\nWinston turned round abruptly. He had set his features into the\\nexpression of quiet optimism which it was advisable to wear when facing\\nthe telescreen. He crossed the room into the tiny kitchen. By leaving\\nthe Ministry at this time of day he had sacrificed his lunch in the\\ncanteen, and he was aware that there was no food in the kitchen except\\na hunk of dark-coloured bread which had got to be saved for tomorrow's\\nbreakfast. He took down from the shelf a bottle of colourless liquid\\nwith a plain white label marked VICTORY GIN. It gave off a sickly, oily\\nsmell, as of Chinese rice-spirit. Winston poured out nearly a teacupful,\\nnerved himself for a shock, and gulped it down like a dose of medicine.\\nInstantly his face turned scarlet and the water ran out of his eyes. The\\nstuff was like nitric acid, and moreover, in swallowing it one had the\\nsensation of being hit on the back of the head with a rubber club. The\\nnext moment, however, the burning in his belly died down and the world\\nbegan to look more cheerful. He took a cigarette from a crumpled packet\\nmarked VICTORY CIGARETTES and incautiously held it upright, whereupon the\\ntobacco fell out on to the floor. With the next he was more successful.\\nHe went back to the living-room and sat down at a small table that stood\\nto the left of the telescreen. From the table drawer he took out a\\npenholder, a bottle of ink, and a thick, quarto-sized blank book with a\\nred back and a marbled cover.\\nFor some reason the telescreen in the living-room was in an unusual\\nposition. Instead of being placed, as was normal, in the end wall, where\\nit could command the whole room, it was in the longer wall, opposite the\\nwindow. To one side of it there was a shallow alcove in which Winston\\nwas now sitting, and which, when the flats were built, had probably been\", metadata={'source': './files/chapter_one.docx'}),\n Document(page_content=\"PART ONE\\nChapter 1\\nIt was a bright cold day in April, and the clocks were striking thirteen.\\nWinston Smith, his chin nuzzled into his breast in an effort to escape the\\nvile wind, slipped quickly through the glass doors of Victory Mansions,\\nthough not quickly enough to prevent a swirl of gritty dust from entering\\nalong with him.\\nThe hallway smelt of boiled cabbage and old rag mats. At one end of it a\\ncoloured poster, too large for indoor display, had been tacked to the wall.\\nIt depicted simply an enormous face, more than a metre wide: the face of a\\nman of about forty-five, with a heavy black moustache and ruggedly handsome\\nfeatures. Winston made for the stairs. It was no use trying the lift. Even\\nat the best of times it was seldom working, and at present the electric\\ncurrent was cut off during daylight hours. It was part of the economy drive\\nin preparation for Hate Week. The flat was seven flights up, and Winston,\\nwho was thirty-nine and had a varicose ulcer above his right ankle, went\\nslowly, resting several times on the way. On each landing, opposite the\\nlift-shaft, the poster with the enormous face gazed from the wall. It was\\none of those pictures which are so contrived that the eyes follow you about\\nwhen you move. BIG BROTHER IS WATCHING YOU, the caption beneath it ran.\\nInside the flat a fruity voice was reading out a list of figures which had\\nsomething to do with the production of pig-iron. The voice came from an\\noblong metal plaque like a dulled mirror which formed part of the surface\\nof the right-hand wall. Winston turned a switch and the voice sank\\nsomewhat, though the words were still distinguishable. The instrument\\n(the telescreen, it was called) could be dimmed, but there was no way of\\nshutting it off completely. He moved over to the window: a smallish, frail\\nfigure, the meagreness of his body merely emphasized by the blue overalls\\nwhich were the uniform of the party. His hair was very fair, his face\\nnaturally sanguine, his skin roughened by coarse soap and blunt razor\\nblades and the cold of the winter that had just ended.\\nOutside, even through the shut window-pane, the world looked cold. Down in\\nthe street little eddies of wind were whirling dust and torn paper into\\nspirals, and though the sun was shining and the sky a harsh blue, there\\nseemed to be no colour in anything, except the posters that were plastered\\neverywhere. The black-moustachio'd face gazed down from every commanding\", metadata={'source': './files/chapter_one.docx'}),\n Document(page_content=\"simply intelligence. But at any rate he had the appearance of being a\\nperson that you could talk to if somehow you could cheat the telescreen and\\nget him alone. Winston had never made the smallest effort to verify this\\nguess: indeed, there was no way of doing so. At this moment O'Brien glanced\\nat his wrist-watch, saw that it was nearly eleven hundred, and evidently\\ndecided to stay in the Records Department until the Two Minutes Hate was\\nover. He took a chair in the same row as Winston, a couple of places away.\\nA small, sandy-haired woman who worked in the next cubicle to Winston was\\nbetween them. The girl with dark hair was sitting immediately behind.\\nThe next moment a hideous, grinding speech, as of some monstrous machine\\nrunning without oil, burst from the big telescreen at the end of the room.\\nIt was a noise that set one's teeth on edge and bristled the hair at the\\nback of one's neck. The Hate had started.\\nAs usual, the face of Emmanuel Goldstein, the Enemy of the People, had\\nflashed on to the screen. There were hisses here and there among the\\naudience. The little sandy-haired woman gave a squeak of mingled fear and\\ndisgust. Goldstein was the renegade and backslider who once, long ago\\n(how long ago, nobody quite remembered), had been one of the leading\\nfigures of the Party, almost on a level with Big Brother himself, and\\nthen had engaged in counter-revolutionary activities, had been condemned\\nto death, and had mysteriously escaped and disappeared. The programmes\\nof the Two Minutes Hate varied from day to day, but there was none in\\nwhich Goldstein was not the principal figure. He was the primal traitor,\\nthe earliest defiler of the Party's purity. All subsequent crimes against\\nthe Party, all treacheries, acts of sabotage, heresies, deviations,\\nsprang directly out of his teaching. Somewhere or other he was still\\nalive and hatching his conspiracies: perhaps somewhere beyond the sea,\\nunder the protection of his foreign paymasters, perhaps even--so it was\\noccasionally rumoured--in some hiding-place in Oceania itself.\\nWinston's diaphragm was constricted. He could never see the face of\\nGoldstein without a painful mixture of emotions. It was a lean Jewish face,\\nwith a great fuzzy aureole of white hair and a small goatee beard--a\\nclever face, and yet somehow inherently despicable, with a kind of senile\\nsilliness in the long thin nose, near the end of which a pair of spectacles\\nwas perched. It resembled the face of a sheep, and the voice, too, had a\", metadata={'source': './files/chapter_one.docx'})]"
     },
     "execution_count": 73,
     "metadata": {},
     "output_type": "execute_result"
    }
   ],
   "source": [
    "results = vectorstore.similarity_search(\"where does winston live\")\n",
    "results"
   ],
   "metadata": {
    "collapsed": false
   }
  },
  {
   "cell_type": "code",
   "execution_count": null,
   "outputs": [],
   "source": [],
   "metadata": {
    "collapsed": false
   }
  }
 ],
 "metadata": {
  "kernelspec": {
   "display_name": "Python 3 (ipykernel)",
   "language": "python",
   "name": "python3"
  },
  "language_info": {
   "codemirror_mode": {
    "name": "ipython",
    "version": 3
   },
   "file_extension": ".py",
   "mimetype": "text/x-python",
   "name": "python",
   "nbconvert_exporter": "python",
   "pygments_lexer": "ipython3",
   "version": "3.11.7"
  }
 },
 "nbformat": 4,
 "nbformat_minor": 4
}
