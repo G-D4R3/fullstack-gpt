{
 "cells": [
  {
   "cell_type": "code",
   "execution_count": 3,
   "metadata": {
    "ExecuteTime": {
     "end_time": "2024-01-10T10:25:25.065259Z",
     "start_time": "2024-01-10T10:25:21.443668Z"
    }
   },
   "outputs": [
    {
     "data": {
      "text/plain": "True"
     },
     "execution_count": 3,
     "metadata": {},
     "output_type": "execute_result"
    }
   ],
   "source": [
    "from dotenv import load_dotenv\n",
    "\n",
    "load_dotenv()"
   ]
  },
  {
   "cell_type": "code",
   "execution_count": 10,
   "outputs": [],
   "source": [
    "from langchain.chat_models import ChatOpenAI\n",
    "\n",
    "from langchain.callbacks import StreamingStdOutCallbackHandler\n",
    "\n",
    "# set_llm_cache\n",
    "# LM의 응답 저장\n",
    "# 같은 질문을 받을 때 답변을 생성하지 않고, 이미 답변한 답을 캐싱을 이용해 답변\n",
    "from langchain.globals import set_llm_cache\n",
    "from langchain.cache import InMemoryCache\n",
    "\n",
    "set_llm_cache(InMemoryCache()) # 모든 respons가 메모리에 저장\n",
    "\n",
    "chat = ChatOpenAI(\n",
    "    temperature=0.1,\n",
    ")\n"
   ],
   "metadata": {
    "collapsed": false
   }
  },
  {
   "cell_type": "code",
   "execution_count": 11,
   "outputs": [
    {
     "data": {
      "text/plain": "\"To make Italian pasta, follow these steps:\\n\\n1. Start by boiling a large pot of water. Add salt to the water to enhance the flavor of the pasta.\\n\\n2. Once the water is boiling, add the pasta to the pot. The amount of pasta depends on how many servings you want to make. Generally, 2 ounces (56 grams) of dried pasta per person is a good estimate.\\n\\n3. Cook the pasta according to the package instructions. Different types of pasta have different cooking times, so make sure to check the package for the recommended cooking time. Stir occasionally to prevent the pasta from sticking together.\\n\\n4. While the pasta is cooking, prepare the sauce. Italian pasta can be served with various sauces such as tomato sauce, pesto, carbonara, or Alfredo sauce. Choose your preferred sauce and follow a recipe or prepare it according to your taste.\\n\\n5. Once the pasta is cooked al dente (cooked but still firm to the bite), drain it in a colander. Reserve a small amount of the pasta water if you want to loosen the sauce later.\\n\\n6. Transfer the drained pasta to a large serving bowl or individual plates. Add the sauce on top of the pasta and toss gently to coat the pasta evenly. If the sauce is too thick, you can add a little bit of the reserved pasta water to thin it out.\\n\\n7. Serve the Italian pasta immediately while it's still hot. You can garnish it with grated Parmesan cheese, fresh herbs, or a drizzle of olive oil, depending on the type of pasta and sauce you used.\\n\\nEnjoy your homemade Italian pasta!\""
     },
     "execution_count": 11,
     "metadata": {},
     "output_type": "execute_result"
    }
   ],
   "source": [
    "# 캐싱에 시간이 필요함.\n",
    "# 13초 가량 걸림\n",
    "\n",
    "chat.predict(\"How do you make italian pasta\")"
   ],
   "metadata": {
    "collapsed": false
   }
  },
  {
   "cell_type": "code",
   "execution_count": 14,
   "outputs": [
    {
     "data": {
      "text/plain": "\"To make Italian pasta, follow these steps:\\n\\n1. Start by boiling a large pot of water. Add salt to the water to enhance the flavor of the pasta.\\n\\n2. Once the water is boiling, add the pasta to the pot. The amount of pasta depends on how many servings you want to make. Generally, 2 ounces (56 grams) of dried pasta per person is a good estimate.\\n\\n3. Cook the pasta according to the package instructions. Different types of pasta have different cooking times, so make sure to check the package for the recommended cooking time. Stir occasionally to prevent the pasta from sticking together.\\n\\n4. While the pasta is cooking, prepare the sauce. Italian pasta can be served with various sauces such as tomato sauce, pesto, carbonara, or Alfredo sauce. Choose your preferred sauce and follow a recipe or prepare it according to your taste.\\n\\n5. Once the pasta is cooked al dente (cooked but still firm to the bite), drain it in a colander. Reserve a small amount of the pasta water if you want to loosen the sauce later.\\n\\n6. Transfer the drained pasta to a large serving bowl or individual plates. Add the sauce on top of the pasta and toss gently to coat the pasta evenly. If the sauce is too thick, you can add a little bit of the reserved pasta water to thin it out.\\n\\n7. Serve the Italian pasta immediately while it's still hot. You can garnish it with grated Parmesan cheese, fresh herbs, or a drizzle of olive oil, depending on the type of pasta and sauce you used.\\n\\nEnjoy your homemade Italian pasta!\""
     },
     "execution_count": 14,
     "metadata": {},
     "output_type": "execute_result"
    }
   ],
   "source": [
    "chat.predict(\"How do you make italian pasta\")"
   ],
   "metadata": {
    "collapsed": false
   }
  },
  {
   "cell_type": "code",
   "execution_count": null,
   "outputs": [],
   "source": [],
   "metadata": {
    "collapsed": false
   }
  }
 ],
 "metadata": {
  "kernelspec": {
   "display_name": "Python 3 (ipykernel)",
   "language": "python",
   "name": "python3"
  },
  "language_info": {
   "codemirror_mode": {
    "name": "ipython",
    "version": 3
   },
   "file_extension": ".py",
   "mimetype": "text/x-python",
   "name": "python",
   "nbconvert_exporter": "python",
   "pygments_lexer": "ipython3",
   "version": "3.11.7"
  }
 },
 "nbformat": 4,
 "nbformat_minor": 4
}
