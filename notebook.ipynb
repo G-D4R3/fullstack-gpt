{
 "cells": [
  {
   "cell_type": "code",
   "execution_count": 1,
   "metadata": {
    "ExecuteTime": {
     "end_time": "2024-01-10T10:25:25.065259Z",
     "start_time": "2024-01-10T10:25:21.443668Z"
    }
   },
   "outputs": [
    {
     "data": {
      "text/plain": "True"
     },
     "execution_count": 1,
     "metadata": {},
     "output_type": "execute_result"
    }
   ],
   "source": [
    "from dotenv import load_dotenv\n",
    "\n",
    "load_dotenv()"
   ]
  },
  {
   "cell_type": "code",
   "execution_count": 14,
   "outputs": [
    {
     "name": "stdout",
     "output_type": "stream",
     "text": [
      "{'documents': [Document(page_content=\"for economic affairs. Their names, in Newspeak: Minitrue, Minipax, Miniluv,\\nand Miniplenty.\\nThe Ministry of Love was the really frightening one. There were no windows\\nin it at all. Winston had never been inside the Ministry of Love, nor\\nwithin half a kilometre of it. It was a place impossible to enter except\\non official business, and then only by penetrating through a maze of\\nbarbed-wire entanglements, steel doors, and hidden machine-gun nests. Even\\nthe streets leading up to its outer barriers were roamed by gorilla-faced\\nguards in black uniforms, armed with jointed truncheons.\\nWinston turned round abruptly. He had set his features into the\\nexpression of quiet optimism which it was advisable to wear when facing\\nthe telescreen. He crossed the room into the tiny kitchen. By leaving\\nthe Ministry at this time of day he had sacrificed his lunch in the\\ncanteen, and he was aware that there was no food in the kitchen except\\na hunk of dark-coloured bread which had got to be saved for tomorrow's\\nbreakfast. He took down from the shelf a bottle of colourless liquid\\nwith a plain white label marked VICTORY GIN. It gave off a sickly, oily\\nsmell, as of Chinese rice-spirit. Winston poured out nearly a teacupful,\\nnerved himself for a shock, and gulped it down like a dose of medicine.\\nInstantly his face turned scarlet and the water ran out of his eyes. The\\nstuff was like nitric acid, and moreover, in swallowing it one had the\\nsensation of being hit on the back of the head with a rubber club. The\\nnext moment, however, the burning in his belly died down and the world\\nbegan to look more cheerful. He took a cigarette from a crumpled packet\\nmarked VICTORY CIGARETTES and incautiously held it upright, whereupon the\\ntobacco fell out on to the floor. With the next he was more successful.\\nHe went back to the living-room and sat down at a small table that stood\\nto the left of the telescreen. From the table drawer he took out a\\npenholder, a bottle of ink, and a thick, quarto-sized blank book with a\\nred back and a marbled cover.\\nFor some reason the telescreen in the living-room was in an unusual\\nposition. Instead of being placed, as was normal, in the end wall, where\\nit could command the whole room, it was in the longer wall, opposite the\\nwindow. To one side of it there was a shallow alcove in which Winston\\nwas now sitting, and which, when the flats were built, had probably been\", metadata={'source': './files/chapter_one.docx'}), Document(page_content=\"PART ONE\\nChapter 1\\nIt was a bright cold day in April, and the clocks were striking thirteen.\\nWinston Smith, his chin nuzzled into his breast in an effort to escape the\\nvile wind, slipped quickly through the glass doors of Victory Mansions,\\nthough not quickly enough to prevent a swirl of gritty dust from entering\\nalong with him.\\nThe hallway smelt of boiled cabbage and old rag mats. At one end of it a\\ncoloured poster, too large for indoor display, had been tacked to the wall.\\nIt depicted simply an enormous face, more than a metre wide: the face of a\\nman of about forty-five, with a heavy black moustache and ruggedly handsome\\nfeatures. Winston made for the stairs. It was no use trying the lift. Even\\nat the best of times it was seldom working, and at present the electric\\ncurrent was cut off during daylight hours. It was part of the economy drive\\nin preparation for Hate Week. The flat was seven flights up, and Winston,\\nwho was thirty-nine and had a varicose ulcer above his right ankle, went\\nslowly, resting several times on the way. On each landing, opposite the\\nlift-shaft, the poster with the enormous face gazed from the wall. It was\\none of those pictures which are so contrived that the eyes follow you about\\nwhen you move. BIG BROTHER IS WATCHING YOU, the caption beneath it ran.\\nInside the flat a fruity voice was reading out a list of figures which had\\nsomething to do with the production of pig-iron. The voice came from an\\noblong metal plaque like a dulled mirror which formed part of the surface\\nof the right-hand wall. Winston turned a switch and the voice sank\\nsomewhat, though the words were still distinguishable. The instrument\\n(the telescreen, it was called) could be dimmed, but there was no way of\\nshutting it off completely. He moved over to the window: a smallish, frail\\nfigure, the meagreness of his body merely emphasized by the blue overalls\\nwhich were the uniform of the party. His hair was very fair, his face\\nnaturally sanguine, his skin roughened by coarse soap and blunt razor\\nblades and the cold of the winter that had just ended.\\nOutside, even through the shut window-pane, the world looked cold. Down in\\nthe street little eddies of wind were whirling dust and torn paper into\\nspirals, and though the sun was shining and the sky a harsh blue, there\\nseemed to be no colour in anything, except the posters that were plastered\\neverywhere. The black-moustachio'd face gazed down from every commanding\", metadata={'source': './files/chapter_one.docx'}), Document(page_content='This, he thought with a sort of vague distaste--this was London, chief\\ncity of Airstrip One, itself the third most populous of the provinces of\\nOceania. He tried to squeeze out some childhood memory that should tell him\\nwhether London had always been quite like this. Were there always these\\nvistas of rotting nineteenth-century houses, their sides shored up with\\nbaulks of timber, their windows patched with cardboard and their roofs\\nwith corrugated iron, their crazy garden walls sagging in all directions?\\nAnd the bombed sites where the plaster dust swirled in the air and the\\nwillow-herb straggled over the heaps of rubble; and the places where the\\nbombs had cleared a larger patch and there had sprung up sordid colonies\\nof wooden dwellings like chicken-houses? But it was no use, he could not\\nremember: nothing remained of his childhood except a series of bright-lit\\ntableaux occurring against no background and mostly unintelligible.\\nThe Ministry of Truth--Minitrue, in Newspeak [Newspeak was the official\\nlanguage of Oceania. For an account of its structure and etymology see\\nAppendix.]--was startlingly different from any other object in sight. It\\nwas an enormous pyramidal structure of glittering white concrete, soaring\\nup, terrace after terrace, 300 metres into the air. From where Winston\\nstood it was just possible to read, picked out on its white face in\\nelegant lettering, the three slogans of the Party:\\nWAR IS PEACE\\nFREEDOM IS SLAVERY\\nIGNORANCE IS STRENGTH\\nThe Ministry of Truth contained, it was said, three thousand rooms above\\nground level, and corresponding ramifications below. Scattered about London\\nthere were just three other buildings of similar appearance and size. So\\ncompletely did they dwarf the surrounding architecture that from the roof\\nof Victory Mansions you could see all four of them simultaneously. They\\nwere the homes of the four Ministries between which the entire apparatus\\nof government was divided. The Ministry of Truth, which concerned itself\\nwith news, entertainment, education, and the fine arts. The Ministry of\\nPeace, which concerned itself with war. The Ministry of Love, which\\nmaintained law and order. And the Ministry of Plenty, which was responsible\\nfor economic affairs. Their names, in Newspeak: Minitrue, Minipax, Miniluv,\\nand Miniplenty.\\nThe Ministry of Love was the really frightening one. There were no windows\\nin it at all. Winston had never been inside the Ministry of Love, nor\\nwithin half a kilometre of it. It was a place impossible to enter except\\non official business, and then only by penetrating through a maze of', metadata={'source': './files/chapter_one.docx'}), Document(page_content=\"Outside, even through the shut window-pane, the world looked cold. Down in\\nthe street little eddies of wind were whirling dust and torn paper into\\nspirals, and though the sun was shining and the sky a harsh blue, there\\nseemed to be no colour in anything, except the posters that were plastered\\neverywhere. The black-moustachio'd face gazed down from every commanding\\ncorner. There was one on the house-front immediately opposite. BIG BROTHER\\nIS WATCHING YOU, the caption said, while the dark eyes looked deep into\\nWinston's own. Down at street level another poster, torn at one corner,\\nflapped fitfully in the wind, alternately covering and uncovering the\\nsingle word INGSOC. In the far distance a helicopter skimmed down between\\nthe roofs, hovered for an instant like a bluebottle, and darted away again\\nwith a curving flight. It was the police patrol, snooping into people's\\nwindows. The patrols did not matter, however. Only the Thought Police\\nmattered.\\nBehind Winston's back the voice from the telescreen was still babbling away\\nabout pig-iron and the overfulfilment of the Ninth Three-Year Plan. The\\ntelescreen received and transmitted simultaneously. Any sound that Winston\\nmade, above the level of a very low whisper, would be picked up by it,\\nmoreover, so long as he remained within the field of vision which the metal\\nplaque commanded, he could be seen as well as heard. There was of course\\nno way of knowing whether you were being watched at any given moment. How\\noften, or on what system, the Thought Police plugged in on any individual\\nwire was guesswork. It was even conceivable that they watched everybody all\\nthe time. But at any rate they could plug in your wire whenever they wanted\\nto. You had to live--did live, from habit that became instinct--in the\\nassumption that every sound you made was overheard, and, except in\\ndarkness, every movement scrutinized.\\nWinston kept his back turned to the telescreen. It was safer; though, as he\\nwell knew, even a back can be revealing. A kilometre away the Ministry of\\nTruth, his place of work, towered vast and white above the grimy landscape.\\nThis, he thought with a sort of vague distaste--this was London, chief\\ncity of Airstrip One, itself the third most populous of the provinces of\\nOceania. He tried to squeeze out some childhood memory that should tell him\\nwhether London had always been quite like this. Were there always these\\nvistas of rotting nineteenth-century houses, their sides shored up with\\nbaulks of timber, their windows patched with cardboard and their roofs\", metadata={'source': './files/chapter_one.docx'})], 'question': 'Describe Victory Mansions.'}\n"
     ]
    },
    {
     "data": {
      "text/plain": "AIMessage(content='Victory Mansions is a dilapidated and run-down residential building located in London, specifically in Airstrip One. It is described as a grimy landscape with rotting nineteenth-century houses. The building itself has crumbling walls and broken windows, giving it a neglected appearance. The hallway of Victory Mansions smells of boiled cabbage and old rag mats. There is a large colored poster depicting the face of a man in his forties with a black mustache and ruggedly handsome features. The building is constantly under surveillance by the Party, with telescreens present in every room. The living conditions are poor, with scarce food and limited resources. The atmosphere is oppressive and filled with fear, as guards in black uniforms patrol the streets and the nearby Ministry of Love is described as a terrifying place.')"
     },
     "execution_count": 14,
     "metadata": {},
     "output_type": "execute_result"
    }
   ],
   "source": [
    "from langchain.chat_models import ChatOpenAI\n",
    "from langchain.document_loaders import UnstructuredFileLoader\n",
    "from langchain.text_splitter import CharacterTextSplitter\n",
    "from langchain.embeddings import OpenAIEmbeddings, CacheBackedEmbeddings\n",
    "from langchain.vectorstores import FAISS\n",
    "from langchain.storage import LocalFileStore\n",
    "from langchain.prompts import ChatPromptTemplate\n",
    "# RunnableLambda : chain과 그 내부 어디에서든 function을 호출할 수 있도록 함\n",
    "from langchain.schema.runnable import RunnablePassthrough, RunnableLambda\n",
    "\n",
    "llm = ChatOpenAI(\n",
    "    temperature=0.1\n",
    ")\n",
    "\n",
    "cache_dir = LocalFileStore(\"./.cache/\")\n",
    "\n",
    "splitter = CharacterTextSplitter.from_tiktoken_encoder(\n",
    "    separator='\\n',\n",
    "    chunk_size=600,\n",
    "    chunk_overlap=100,\n",
    ")\n",
    "\n",
    "loader = UnstructuredFileLoader(\"./files/chapter_one.docx\")\n",
    "docs = loader.load_and_split(text_splitter=splitter)\n",
    "embeddings = OpenAIEmbeddings()\n",
    "\n",
    "# cache_dir에 있는 embed를 확인하고 업으면 OpenAIEmbeddings 사용\n",
    "cached_embeddings = CacheBackedEmbeddings.from_bytes_store(\n",
    "    embeddings, cache_dir\n",
    ")\n",
    "\n",
    "vectorstore = FAISS.from_documents(docs, cached_embeddings)\n",
    "\n",
    "\n",
    "# list of docs -> Victory Mansions을 묘사하는 것과 관련된 document list를 retriever가 반환\n",
    "retriever = vectorstore.as_retriever()\n",
    "\n",
    "\n",
    "map_doc_prompt = ChatPromptTemplate.from_messages([\n",
    "    (\n",
    "        \"system\",\n",
    "        \"\"\"\n",
    "        Use the following portion of a long document to see if any of the text is relevant to answer the question. Return any relevant text verbatim.\n",
    "        -------\n",
    "        {context}\n",
    "        \"\"\"\n",
    "    ),\n",
    "    (\"human\", \"{question}\"),\n",
    "])\n",
    "\n",
    "map_doc_chain = map_doc_prompt | llm\n",
    "\n",
    "\n",
    "def map_docs(inputs) -> str:\n",
    "    \"\"\"\n",
    "    :param inputs: [{\"documents\": List[Document], \"question\": str}]\n",
    "    :return: final chain의 context가 될 부분. str\n",
    "    \"\"\"\n",
    "    print(inputs)\n",
    "\n",
    "    documents = inputs['documents']\n",
    "    question = inputs['question']\n",
    "\n",
    "    # for doc in list of docs | promt | llm -> 모든 document에 대한 prompt를 만들어서 llm에 전달. 질문: \"이 doc을 읽고 question에 답하는 데에 관련이 있는 중요한 정보를 추출해줘\"\n",
    "    results = []\n",
    "    for document in documents:\n",
    "        result = map_doc_chain.invoke({\n",
    "            \"context\": document.page_content,\n",
    "            \"question\": question\n",
    "        }).content\n",
    "        results.append(result)\n",
    "\n",
    "    # for response in list of llms response | put them all together -> response를 합해서 하나의 긴 document(final doc)\n",
    "    results = \"\\n\\n\".join(results)\n",
    "\n",
    "    return results\n",
    "\n",
    "\n",
    "\n",
    "# document가 필요 -> retriever를 사용해서 얻을 수 있음\n",
    "# question이 필요. 그래야 llm에 요청할 수 있기 때문\n",
    "map_chain = {\"documents\": retriever, \"question\": RunnablePassthrough()} | RunnableLambda(map_docs)\n",
    "\n",
    "\n",
    "# final doc | prompt | llm -> final doc이 prompt에 입력되어 전달 + llm이 질문에 대답\n",
    "final_prompt = ChatPromptTemplate.from_messages([\n",
    "    (\"system\", \"\"\"Given the following extracted part of a long document and a question, create a final answer.\n",
    "    If you don't know the answer, just say that you don't know. Don't try to make up an answer.\n",
    "    ------\n",
    "    {context}\n",
    "    \"\"\"),\n",
    "    (\"human\", \"{question}\"),\n",
    "])\n",
    "\n",
    "# invoke가 실행될 때, map_chain이 context로 들어감\n",
    "chain = {\"context\": map_chain, \"question\": RunnablePassthrough()} | final_prompt | llm\n",
    "\n",
    "chain.invoke(\"Describe Victory Mansions.\")"
   ],
   "metadata": {
    "collapsed": false
   }
  },
  {
   "cell_type": "code",
   "execution_count": null,
   "outputs": [],
   "source": [],
   "metadata": {
    "collapsed": false
   }
  }
 ],
 "metadata": {
  "kernelspec": {
   "display_name": "Python 3 (ipykernel)",
   "language": "python",
   "name": "python3"
  },
  "language_info": {
   "codemirror_mode": {
    "name": "ipython",
    "version": 3
   },
   "file_extension": ".py",
   "mimetype": "text/x-python",
   "name": "python",
   "nbconvert_exporter": "python",
   "pygments_lexer": "ipython3",
   "version": "3.11.7"
  }
 },
 "nbformat": 4,
 "nbformat_minor": 4
}
